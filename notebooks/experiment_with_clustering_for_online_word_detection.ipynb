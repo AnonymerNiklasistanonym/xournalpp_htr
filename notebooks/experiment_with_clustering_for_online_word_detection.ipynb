{
 "cells": [
  {
   "cell_type": "markdown",
   "metadata": {},
   "source": [
    "# Experiment w clustering for online word detection"
   ]
  },
  {
   "cell_type": "code",
   "execution_count": null,
   "metadata": {},
   "outputs": [],
   "source": [
    "import matplotlib.pyplot as plt\n",
    "import numpy as np\n",
    "\n",
    "from xournalpp_htr.documents import XournalppDocument"
   ]
  },
  {
   "cell_type": "markdown",
   "metadata": {},
   "source": [
    "## Load example data"
   ]
  },
  {
   "cell_type": "code",
   "execution_count": null,
   "metadata": {},
   "outputs": [],
   "source": [
    "xpp_doc = XournalppDocument(\"../tests/data/2024-07-26_minimal.xopp\")"
   ]
  },
  {
   "cell_type": "markdown",
   "metadata": {},
   "source": [
    "## Settings"
   ]
  },
  {
   "cell_type": "code",
   "execution_count": null,
   "metadata": {},
   "outputs": [],
   "source": [
    "I_PAGE = 0\n",
    "DPI = 72"
   ]
  },
  {
   "cell_type": "markdown",
   "metadata": {},
   "source": [
    "## Plot example data as-is w/o segmentation"
   ]
  },
  {
   "cell_type": "code",
   "execution_count": null,
   "metadata": {},
   "outputs": [],
   "source": [
    "page = xpp_doc.pages[I_PAGE]\n",
    "\n",
    "all_strokes = []\n",
    "\n",
    "for layer in page.layers:\n",
    "    for stroke in layer.strokes:\n",
    "        x = stroke.x / DPI\n",
    "        y = stroke.y / DPI\n",
    "\n",
    "        y *= -1\n",
    "\n",
    "        all_strokes.append({\"x\": x, \"y\": y, \"x_mean\": x.mean(), \"y_mean\": y.mean()})"
   ]
  },
  {
   "cell_type": "code",
   "execution_count": null,
   "metadata": {},
   "outputs": [],
   "source": [
    "plt.figure(\n",
    "    figsize=(\n",
    "        float(page.meta_data[\"width\"]) / DPI,\n",
    "        float(page.meta_data[\"height\"]) / DPI,\n",
    "    )\n",
    ")\n",
    "\n",
    "for stroke in all_strokes:\n",
    "    x = stroke[\"x\"]\n",
    "    y = stroke[\"y\"]\n",
    "    plt.scatter(x, y, s=1, c=\"black\")\n",
    "\n",
    "plt.gca().set_aspect(\"equal\")\n",
    "plt.show()"
   ]
  },
  {
   "cell_type": "markdown",
   "metadata": {},
   "source": [
    "## Attempt 1\n",
    "\n",
    "Plot mean of each stroke on top of stroke."
   ]
  },
  {
   "cell_type": "code",
   "execution_count": null,
   "metadata": {},
   "outputs": [],
   "source": [
    "THRESHOLD = 1e-1"
   ]
  },
  {
   "cell_type": "code",
   "execution_count": null,
   "metadata": {},
   "outputs": [],
   "source": [
    "plt.figure(\n",
    "    figsize=(\n",
    "        float(page.meta_data[\"width\"]) / DPI,\n",
    "        float(page.meta_data[\"height\"]) / DPI,\n",
    "    )\n",
    ")\n",
    "\n",
    "for stroke in all_strokes:\n",
    "    plt.scatter(stroke[\"x\"], stroke[\"y\"], s=1, c=\"black\")\n",
    "    plt.scatter(stroke[\"x_mean\"], stroke[\"y_mean\"], c=\"red\", s=1)\n",
    "\n",
    "plt.gca().set_aspect(\"equal\")\n",
    "plt.show()"
   ]
  },
  {
   "cell_type": "markdown",
   "metadata": {},
   "source": [
    "Next, I compute the distance between the strokes and threshold it:"
   ]
  },
  {
   "cell_type": "code",
   "execution_count": null,
   "metadata": {},
   "outputs": [],
   "source": [
    "distances = np.infty * np.ones((len(all_strokes), len(all_strokes)))"
   ]
  },
  {
   "cell_type": "code",
   "execution_count": null,
   "metadata": {},
   "outputs": [],
   "source": [
    "for i in range(len(all_strokes)):\n",
    "    for j in range(i - 1 + 1):\n",
    "        element = (all_strokes[i][\"x_mean\"] - all_strokes[j][\"x_mean\"]) ** 2 + (\n",
    "            all_strokes[i][\"y_mean\"] - all_strokes[j][\"y_mean\"]\n",
    "        ) ** 2\n",
    "        distances[i, j] = element"
   ]
  },
  {
   "cell_type": "code",
   "execution_count": null,
   "metadata": {},
   "outputs": [],
   "source": [
    "distances[distances != -1.0].min(), distances[distances != -1.0].max()"
   ]
  },
  {
   "cell_type": "code",
   "execution_count": null,
   "metadata": {},
   "outputs": [],
   "source": [
    "plt.figure()\n",
    "plt.imshow(distances)\n",
    "plt.show()"
   ]
  },
  {
   "cell_type": "markdown",
   "metadata": {},
   "source": [
    "Now construct the clusters (inefficiently for now just to get it running at first):"
   ]
  },
  {
   "cell_type": "code",
   "execution_count": null,
   "metadata": {},
   "outputs": [],
   "source": [
    "raise NotImplementedError(\"i need to implement that!\")\n",
    "\n",
    "already_used = np.zeros(len(all_strokes), dtype=bool)\n",
    "\n",
    "stroke_groups = []\n",
    "\n",
    "for i in range(1, len(all_strokes)):\n",
    "    if not already_used[i]:\n",
    "        word_members = []\n",
    "        similar_strokes = np.where(distances[i] <= THRESHOLD)[0]\n",
    "        similar_strokes = similar_strokes.tolist() + [\n",
    "            i,\n",
    "        ]\n",
    "\n",
    "        print(similar_strokes)\n",
    "\n",
    "        stroke_groups.append(similar_strokes)\n",
    "\n",
    "        for j in similar_strokes:\n",
    "            already_used[j] = True"
   ]
  },
  {
   "cell_type": "markdown",
   "metadata": {},
   "source": [
    "To read: [1](https://stats.stackexchange.com/questions/148161/clustering-from-similarity-distance-matrix), [2](https://scikit-learn.org/dev/modules/generated/sklearn.cluster.SpectralClustering.html), [3](https://stats.stackexchange.com/questions/475687/clustering-given-distance-matrix-and-k-in-python)."
   ]
  },
  {
   "cell_type": "markdown",
   "metadata": {},
   "source": [
    "The problem of this approach is that the thresholding is not scale invariant, i.e. larger written words will fail to be recognised to be a word b/c the strokes are too far apart."
   ]
  }
 ],
 "metadata": {
  "kernelspec": {
   "display_name": "xournalpp_htr",
   "language": "python",
   "name": "python3"
  },
  "language_info": {
   "codemirror_mode": {
    "name": "ipython",
    "version": 3
   },
   "file_extension": ".py",
   "mimetype": "text/x-python",
   "name": "python",
   "nbconvert_exporter": "python",
   "pygments_lexer": "ipython3",
   "version": "3.10.11"
  }
 },
 "nbformat": 4,
 "nbformat_minor": 2
}
