{
 "cells": [
  {
   "cell_type": "markdown",
   "metadata": {},
   "source": [
    "# Experiment with exporting a text layer to PDF"
   ]
  },
  {
   "cell_type": "code",
   "execution_count": 1,
   "metadata": {},
   "outputs": [],
   "source": [
    "%load_ext autoreload\n",
    "%autoreload 2"
   ]
  },
  {
   "cell_type": "code",
   "execution_count": 2,
   "metadata": {},
   "outputs": [
    {
     "name": "stderr",
     "output_type": "stream",
     "text": [
      "/home/martin/anaconda3/envs/xournalpp_htr/lib/python3.10/site-packages/onnxruntime/capi/onnxruntime_inference_collection.py:69: UserWarning: Specified provider 'CUDAExecutionProvider' is not in available provider names.Available providers: 'AzureExecutionProvider, CPUExecutionProvider'\n",
      "  warnings.warn(\n",
      "/home/martin/anaconda3/envs/xournalpp_htr/lib/python3.10/site-packages/onnxruntime/capi/onnxruntime_inference_collection.py:69: UserWarning: Specified provider 'CUDAExecutionProvider' is not in available provider names.Available providers: 'AzureExecutionProvider, CPUExecutionProvider'\n",
      "  warnings.warn(\n"
     ]
    }
   ],
   "source": [
    "from pathlib import Path\n",
    "import subprocess\n",
    "import os\n",
    "import tempfile\n",
    "\n",
    "import pymupdf\n",
    "from pymupdf import TextWriter\n",
    "import cv2\n",
    "import matplotlib.pyplot as plt\n",
    "from htr_pipeline import read_page, DetectorConfig, LineClusteringConfig\n",
    "from tqdm import tqdm\n",
    "\n",
    "from xournalpp_htr.utils import export_to_pdf_with_xournalpp\n",
    "from xournalpp_htr.documents import XournalDocument"
   ]
  },
  {
   "cell_type": "markdown",
   "metadata": {},
   "source": [
    "## Goal\n",
    "\n",
    "Export as PDF: Write a script that uses XOJ as input and exports a PDF with text layer."
   ]
  },
  {
   "cell_type": "markdown",
   "metadata": {},
   "source": [
    "## Settings"
   ]
  },
  {
   "cell_type": "code",
   "execution_count": 3,
   "metadata": {},
   "outputs": [],
   "source": [
    "XOJ_PATH = Path('../tests/test_1.xoj')\n",
    "PDF_PATH = XOJ_PATH.with_suffix('.pdf')\n",
    "PDF_PATH_OCR = PDF_PATH.parent / Path(PDF_PATH.stem+'_ocrd').with_suffix('.pdf')\n",
    "\n",
    "PREDICTION_IMAGE_DIR = None\n",
    "PREDICTION_IMAGE_DIR = Path('TEST_IMG') # Store prediction images in there for debugging purposes\n",
    "\n",
    "DEBUG_HTR = False # Debug switch. DEBUG_HTR=True leading to drawn boxes and visible text. Otherwise invisible text only."
   ]
  },
  {
   "cell_type": "markdown",
   "metadata": {},
   "source": [
    "## Step 1: XOJ to PDF"
   ]
  },
  {
   "cell_type": "markdown",
   "metadata": {},
   "source": [
    "First, turn test file from `xoj` into `pdf`."
   ]
  },
  {
   "cell_type": "code",
   "execution_count": 4,
   "metadata": {},
   "outputs": [
    {
     "data": {
      "text/plain": [
       "PosixPath('../tests/test_1.pdf')"
      ]
     },
     "execution_count": 4,
     "metadata": {},
     "output_type": "execute_result"
    }
   ],
   "source": [
    "export_to_pdf_with_xournalpp(XOJ_PATH, PDF_PATH)\n"
   ]
  },
  {
   "cell_type": "markdown",
   "metadata": {},
   "source": [
    "## Step 2: Perform HTR predictions"
   ]
  },
  {
   "cell_type": "code",
   "execution_count": 5,
   "metadata": {},
   "outputs": [
    {
     "name": "stderr",
     "output_type": "stream",
     "text": [
      "/home/martin/anaconda3/envs/xournalpp_htr/lib/python3.10/site-packages/bs4/builder/__init__.py:545: XMLParsedAsHTMLWarning: It looks like you're parsing an XML document using an HTML parser. If this really is an HTML document (maybe it's XHTML?), you can ignore or filter this warning. If it's XML, you should know that using an XML parser will be more reliable. To parse this document as XML, make sure you have the lxml package installed, and pass the keyword argument `features=\"xml\"` into the BeautifulSoup constructor.\n",
      "  warnings.warn(\n",
      "100%|██████████| 4/4 [00:06<00:00,  1.69s/it]\n"
     ]
    }
   ],
   "source": [
    "predictions = {}\n",
    "\n",
    "input_file = XOJ_PATH\n",
    "\n",
    "file_ending = input_file.suffix\n",
    "\n",
    "if file_ending == '.xoj':\n",
    "    document = XournalDocument(input_file)\n",
    "else:\n",
    "    raise NotImplementedError(f'File ending \"{file_ending}\" currently not readable.')\n",
    "\n",
    "nr_pages = len( document.pages )\n",
    "\n",
    "for page_index in tqdm(range(nr_pages)):\n",
    "\n",
    "    with tempfile.NamedTemporaryFile(dir='/tmp', delete=False, prefix=f'xournalpp_htr__page{page_index}__', suffix='.jpg') as tmpfile:\n",
    "        TMP_FILE = Path(tmpfile.name)\n",
    "    \n",
    "        written_file = document.save_page_as_image(page_index, TMP_FILE, False, dpi=150)\n",
    "\n",
    "        # ======\n",
    "        # Do HTR\n",
    "        # ======\n",
    "\n",
    "        # read image\n",
    "        img = cv2.imread(str(written_file), cv2.IMREAD_GRAYSCALE)\n",
    "\n",
    "        # detect and read text\n",
    "        #height = 700 # good\n",
    "        #enlarge = 5\n",
    "        #enlarge = 10\n",
    "        # height = 1000 # good\n",
    "        # height = 1600 # not good\n",
    "        scale = 0.4\n",
    "        margin = 5\n",
    "        read_lines = read_page(img, \n",
    "                               DetectorConfig(scale=scale, margin=margin), \n",
    "                               line_clustering_config=LineClusteringConfig(min_words_per_line=2))\n",
    "        \n",
    "        predictions_page = []\n",
    "        for line in read_lines:\n",
    "            for word in line:\n",
    "                data = {\n",
    "                    'page_index': page_index,\n",
    "                    'text': word.text,\n",
    "                    'xmin': word.aabb.xmin,\n",
    "                    'xmax': word.aabb.xmax,\n",
    "                    'ymin': word.aabb.ymin,\n",
    "                    'ymax': word.aabb.ymax,\n",
    "                }\n",
    "                predictions_page.append(data)\n",
    "        predictions[page_index] = predictions_page"
   ]
  },
  {
   "cell_type": "markdown",
   "metadata": {},
   "source": [
    "Plot the predictions to ensure that they are working correctly:"
   ]
  },
  {
   "cell_type": "code",
   "execution_count": 6,
   "metadata": {},
   "outputs": [
    {
     "name": "stderr",
     "output_type": "stream",
     "text": [
      "100%|██████████| 4/4 [00:03<00:00,  1.10it/s]\n"
     ]
    }
   ],
   "source": [
    "if PREDICTION_IMAGE_DIR:\n",
    "\n",
    "    PREDICTION_IMAGE_DIR.mkdir(parents=True, exist_ok=True)\n",
    "\n",
    "    nr_pages = len( document.pages )\n",
    "\n",
    "    for page_index in tqdm(range(nr_pages)):\n",
    "\n",
    "        file_name = PREDICTION_IMAGE_DIR / f'page{page_index}.jpg'\n",
    "        file_name_ocrd = PREDICTION_IMAGE_DIR / f'page{page_index}_ocrd.jpg'\n",
    "\n",
    "        written_file = document.save_page_as_image(page_index, file_name, False, dpi=150)\n",
    "\n",
    "        # ======\n",
    "        # Do HTR\n",
    "        # ======\n",
    "\n",
    "        # read image\n",
    "        img = cv2.imread(str(written_file), cv2.IMREAD_GRAYSCALE)\n",
    "    \n",
    "        # To prepare plotting\n",
    "        img = cv2.cvtColor(img, cv2.COLOR_GRAY2RGB)\n",
    "\n",
    "        # Impose predictions on image\n",
    "        for prediction in predictions[page_index]:\n",
    "\n",
    "            text = prediction['text']\n",
    "            xmin = prediction['xmin']\n",
    "            xmax = prediction['xmax']\n",
    "            ymin = prediction['ymin']\n",
    "            ymax = prediction['ymax']\n",
    "\n",
    "            img = cv2.rectangle(img,\n",
    "                                (int(xmin), int(ymax)),\n",
    "                                (int(xmax), int(ymin)),\n",
    "                                (255, 0, 0),\n",
    "                                2)\n",
    "            \n",
    "            img = cv2.putText(img,\n",
    "                            text=text,\n",
    "                            org=(int(xmin), int(ymin)),\n",
    "                            fontFace=cv2.FONT_HERSHEY_SIMPLEX,\n",
    "                            fontScale=1,\n",
    "                            color=(255, 0, 0),\n",
    "                            thickness=1,\n",
    "                            )\n",
    "                \n",
    "        plt_image = cv2.cvtColor(img, cv2.COLOR_BGR2RGB)\n",
    "\n",
    "        figure_aspect_ratio = float(document.pages[page_index].meta_data['height']) / float(document.pages[page_index].meta_data['width'])\n",
    "        plt.figure(figsize=(10, 10*figure_aspect_ratio))\n",
    "        imgplot = plt.imshow(plt_image)\n",
    "        plt.savefig(file_name_ocrd, dpi=150)\n",
    "        plt.close()"
   ]
  },
  {
   "cell_type": "markdown",
   "metadata": {},
   "source": [
    "## Step 3: Store predictions in PDF"
   ]
  },
  {
   "cell_type": "code",
   "execution_count": 7,
   "metadata": {},
   "outputs": [
    {
     "name": "stderr",
     "output_type": "stream",
     "text": [
      "100%|██████████| 4/4 [00:03<00:00,  1.17it/s]\n"
     ]
    }
   ],
   "source": [
    "try:\n",
    "    os.remove(PDF_PATH_OCR)\n",
    "except Exception as e:\n",
    "    print(f'Error encountered while deleting {PDF_PATH_OCR}', e)\n",
    "\n",
    "doc = pymupdf.open(PDF_PATH)\n",
    "\n",
    "input_file = XOJ_PATH\n",
    "\n",
    "nr_pages = len( document.pages )\n",
    "\n",
    "for page_index in tqdm(range(nr_pages)):\n",
    "\n",
    "    pdf_page = doc[page_index]\n",
    "\n",
    "    for prediction in predictions[page_index]:\n",
    "\n",
    "        text = prediction['text']\n",
    "\n",
    "        if DEBUG_HTR:\n",
    "\n",
    "            pdf_page.draw_rect(\n",
    "                rect=pymupdf.Rect(\n",
    "                    [\n",
    "                        prediction['xmin'] / 150 * 72,\n",
    "                        prediction['ymin'] / 150 * 72,\n",
    "                    ],\n",
    "                    [\n",
    "                        prediction['xmax'] / 150 * 72,\n",
    "                        prediction['ymax'] / 150 * 72,\n",
    "                    ],\n",
    "                ),\n",
    "                color=pymupdf.pdfcolor[\"blue\"],\n",
    "            )\n",
    "\n",
    "        pdf_page.insert_textbox(\n",
    "            rect=pymupdf.Rect(\n",
    "                [\n",
    "                    prediction['xmin'] / 150 * 72,\n",
    "                    prediction['ymin'] / 150 * 72,\n",
    "                ],\n",
    "                [\n",
    "                    prediction['xmax'] / 150 * 72,\n",
    "                    prediction['ymax'] / 150 * 72,\n",
    "                ],\n",
    "            ),\n",
    "            buffer=prediction['text'],\n",
    "            color=pymupdf.pdfcolor[\"blue\"],\n",
    "            align=pymupdf.TEXT_ALIGN_CENTER,\n",
    "            fontsize=6,\n",
    "            render_mode=0 if DEBUG_HTR else 3, # 0 for visible, 3 for invisible\n",
    "        ) # TODO: Improve text alignment with prediction. (1) center text vertically and then (2) stretch text to full box.\n",
    "          #       Re (1) see https://github.com/pymupdf/PyMuPDF/discussions/1662.\n",
    "\n",
    "doc.ez_save(PDF_PATH_OCR)"
   ]
  },
  {
   "cell_type": "markdown",
   "metadata": {},
   "source": [
    "## Step 4: Next steps\n",
    "\n",
    "I want to build prediction code that can run both in a CLI and in a notebook like this here. Also, I'd like to be able to set the model flexibly."
   ]
  }
 ],
 "metadata": {
  "kernelspec": {
   "display_name": "xournalpp_htr",
   "language": "python",
   "name": "python3"
  },
  "language_info": {
   "codemirror_mode": {
    "name": "ipython",
    "version": 3
   },
   "file_extension": ".py",
   "mimetype": "text/x-python",
   "name": "python",
   "nbconvert_exporter": "python",
   "pygments_lexer": "ipython3",
   "version": "3.10.11"
  }
 },
 "nbformat": 4,
 "nbformat_minor": 2
}
