{
 "cells": [
  {
   "cell_type": "code",
   "execution_count": 29,
   "metadata": {},
   "outputs": [],
   "source": [
    "from pathlib import Path\n",
    "import subprocess\n",
    "\n",
    "import pymupdf\n",
    "from pymupdf import TextWriter"
   ]
  },
  {
   "cell_type": "code",
   "execution_count": 8,
   "metadata": {},
   "outputs": [],
   "source": [
    "XOJ_PATH = Path('../tests/test_1.xoj')\n",
    "PDF_PATH = XOJ_PATH.with_suffix('.pdf')"
   ]
  },
  {
   "cell_type": "markdown",
   "metadata": {},
   "source": [
    "First, turn test file from `xoj` into `pdf`."
   ]
  },
  {
   "cell_type": "code",
   "execution_count": 11,
   "metadata": {},
   "outputs": [
    {
     "name": "stderr",
     "output_type": "stream",
     "text": [
      "** Message: 13:21:32.715: PDF file successfully created\n"
     ]
    },
    {
     "data": {
      "text/plain": [
       "CompletedProcess(args='xournalpp ../tests/test_1.xoj -p ../tests/test_1.pdf', returncode=0)"
      ]
     },
     "execution_count": 11,
     "metadata": {},
     "output_type": "execute_result"
    }
   ],
   "source": [
    "subprocess.run(f'xournalpp {XOJ_PATH} -p {PDF_PATH}', shell=True)\n"
   ]
  },
  {
   "cell_type": "markdown",
   "metadata": {},
   "source": [
    "Next, using some dummy text and position, try to add hidden (=searchable) text to PDF. Based on [this issue](https://github.com/pymupdf/PyMuPDF/discussions/775#discussioncomment-219578) found using G\"python add hidden text to pdf\"."
   ]
  },
  {
   "cell_type": "code",
   "execution_count": 15,
   "metadata": {},
   "outputs": [],
   "source": [
    "with pymupdf.open(PDF_PATH) as doc:\n",
    "    for page in doc:\n",
    "        text = page.get_text()\n"
   ]
  },
  {
   "cell_type": "code",
   "execution_count": 20,
   "metadata": {},
   "outputs": [],
   "source": [
    "doc = pymupdf.open(PDF_PATH)\n",
    "for page in doc:\n",
    "    text = page.get_text()"
   ]
  },
  {
   "cell_type": "code",
   "execution_count": 30,
   "metadata": {},
   "outputs": [],
   "source": [
    "text = 'a wee test!'\n",
    "\n",
    "tw = TextWriter(page.rect)  # need the intended page's size here\n",
    "# for each text piece (a word, a string, a character, ... everything goes)\n",
    "tw.append(\n",
    "    (0.0, 0.0),  # the insertion point\n",
    "    text,  # the text to insert\n",
    "    font=None, #font,  # a fitz.Font(...) object\n",
    "    fontsize=11,\n",
    "   )\n",
    "# ... repeat the above with arbitrary other fonts / fontsizes, when done:\n",
    "tw.write_text(page, render_mode=3)  # write the whole text writer as hidden (render mode 3) text."
   ]
  },
  {
   "cell_type": "code",
   "execution_count": 50,
   "metadata": {},
   "outputs": [],
   "source": [
    "doc.ez_save(PDF_PATH.parent / Path(PDF_PATH.stem+'_ocrd').with_suffix('.pdf'))"
   ]
  },
  {
   "cell_type": "code",
   "execution_count": null,
   "metadata": {},
   "outputs": [],
   "source": []
  }
 ],
 "metadata": {
  "kernelspec": {
   "display_name": "xournalpp_htr",
   "language": "python",
   "name": "python3"
  },
  "language_info": {
   "codemirror_mode": {
    "name": "ipython",
    "version": 3
   },
   "file_extension": ".py",
   "mimetype": "text/x-python",
   "name": "python",
   "nbconvert_exporter": "python",
   "pygments_lexer": "ipython3",
   "version": "3.10.11"
  }
 },
 "nbformat": 4,
 "nbformat_minor": 2
}
