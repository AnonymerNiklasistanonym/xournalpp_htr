{
 "cells": [
  {
   "cell_type": "code",
   "execution_count": 1,
   "metadata": {},
   "outputs": [],
   "source": [
    "from pathlib import Path\n",
    "import subprocess\n",
    "import os\n",
    "\n",
    "import pymupdf\n",
    "from pymupdf import TextWriter"
   ]
  },
  {
   "cell_type": "code",
   "execution_count": 2,
   "metadata": {},
   "outputs": [],
   "source": [
    "XOJ_PATH = Path('../tests/test_1.xoj')\n",
    "PDF_PATH = XOJ_PATH.with_suffix('.pdf')\n",
    "PDF_PATH_OCR = PDF_PATH.parent / Path(PDF_PATH.stem+'_ocrd').with_suffix('.pdf')"
   ]
  },
  {
   "cell_type": "markdown",
   "metadata": {},
   "source": [
    "First, turn test file from `xoj` into `pdf`."
   ]
  },
  {
   "cell_type": "code",
   "execution_count": 3,
   "metadata": {},
   "outputs": [
    {
     "name": "stderr",
     "output_type": "stream",
     "text": [
      "** Message: 14:12:32.084: PDF file successfully created\n"
     ]
    },
    {
     "data": {
      "text/plain": [
       "CompletedProcess(args='xournalpp ../tests/test_1.xoj -p ../tests/test_1.pdf', returncode=0)"
      ]
     },
     "execution_count": 3,
     "metadata": {},
     "output_type": "execute_result"
    }
   ],
   "source": [
    "subprocess.run(f'xournalpp {XOJ_PATH} -p {PDF_PATH}', shell=True)\n"
   ]
  },
  {
   "cell_type": "markdown",
   "metadata": {},
   "source": [
    "Next, using some dummy text and position, try to add hidden (=searchable) text to PDF. Based on [this issue](https://github.com/pymupdf/PyMuPDF/discussions/775#discussioncomment-219578) found using G\"python add hidden text to pdf\"."
   ]
  },
  {
   "cell_type": "code",
   "execution_count": 4,
   "metadata": {},
   "outputs": [
    {
     "name": "stdout",
     "output_type": "stream",
     "text": [
      "[Errno 2] No such file or directory: '../tests/test_1_ocrd.pdf'\n"
     ]
    }
   ],
   "source": [
    "try:\n",
    "    os.remove(PDF_PATH_OCR)\n",
    "except Exception as e:\n",
    "    print(f'Error encountered while deleting {PDF_PATH_OCR}', e)\n",
    "\n",
    "doc = pymupdf.open(PDF_PATH)\n",
    "\n",
    "for page in doc:\n",
    "\n",
    "    text = 'a wee test!'\n",
    "\n",
    "    tw = TextWriter(page.rect)\n",
    "    tw.append(\n",
    "        (0.0, 0.0),\n",
    "        text,\n",
    "        font=None,\n",
    "        fontsize=11,\n",
    "    )\n",
    "    tw.write_text(page, render_mode=3) # render_mode=3 == hidden text\n",
    "    # TODO: How to adjust text to a given bounding box as to perfectly align\n",
    "    #       with text recognition?\n",
    "\n",
    "doc.ez_save(PDF_PATH_OCR)"
   ]
  },
  {
   "cell_type": "code",
   "execution_count": 5,
   "metadata": {},
   "outputs": [],
   "source": [
    "# TODO: I want to build prediction code that can run both in a CLI and in a notebook like this here. Also, I'd like to be able to set the model flexibly."
   ]
  }
 ],
 "metadata": {
  "kernelspec": {
   "display_name": "xournalpp_htr",
   "language": "python",
   "name": "python3"
  },
  "language_info": {
   "codemirror_mode": {
    "name": "ipython",
    "version": 3
   },
   "file_extension": ".py",
   "mimetype": "text/x-python",
   "name": "python",
   "nbconvert_exporter": "python",
   "pygments_lexer": "ipython3",
   "version": "3.10.11"
  }
 },
 "nbformat": 4,
 "nbformat_minor": 2
}
