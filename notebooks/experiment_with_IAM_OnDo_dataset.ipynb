{
 "cells": [
  {
   "cell_type": "markdown",
   "id": "1d03e361-cb11-49aa-9cf7-5e0a590186c5",
   "metadata": {},
   "source": [
    "# Experiment w IAM OnDo dataset\n",
    "\n",
    "That is b/c it potentially comes with segmented word information, which is useful for a revised WordDetectorNN network.\n",
    "\n",
    "- [great for viewing XML files in formatted way](https://jsonformatter.org/xml-viewer/475e9e).\n",
    "- [interesting package](https://github.com/RobinXL/inkml2img/blob/master/inkml2img.py)"
   ]
  },
  {
   "cell_type": "code",
   "execution_count": null,
   "id": "d1e6e7ca-882c-46a2-a4c0-79ae770b0b3a",
   "metadata": {},
   "outputs": [],
   "source": [
    "from pathlib import Path\n",
    "\n",
    "import matplotlib.pyplot as plt\n",
    "import pandas as pd"
   ]
  },
  {
   "cell_type": "code",
   "execution_count": null,
   "id": "3bda86c1-cb9c-45af-a7f0-4a010c6a8a1e",
   "metadata": {},
   "outputs": [],
   "source": [
    "BASE_PATH = Path(\"/home/martin/Development/xournalpp_htr/data/datasets/IAMonDo-db-1.0/\")"
   ]
  },
  {
   "cell_type": "code",
   "execution_count": null,
   "id": "99d9e548-c8cf-43ec-9e1d-eb2327cdb828",
   "metadata": {},
   "outputs": [],
   "source": [
    "inkml_path = BASE_PATH / \"001e.inkml\""
   ]
  },
  {
   "cell_type": "markdown",
   "id": "f30ff098-9723-408c-97cd-1bfcbb672c7c",
   "metadata": {},
   "source": [
    "*side idea: build InkML class! it'd be cool to make package from that and maybe publish it.*"
   ]
  },
  {
   "cell_type": "code",
   "execution_count": null,
   "id": "1cc46913-7eeb-4dc8-a19a-874ab6b5d6a5",
   "metadata": {},
   "outputs": [],
   "source": [
    "import xml.etree.ElementTree as ET\n",
    "\n",
    "tree = ET.parse(inkml_path)\n",
    "root = tree.getroot()"
   ]
  },
  {
   "cell_type": "code",
   "execution_count": null,
   "id": "27998475-db52-4e4b-9b18-63d5e5e64f56",
   "metadata": {},
   "outputs": [],
   "source": [
    "root"
   ]
  },
  {
   "cell_type": "markdown",
   "id": "6ac612f7-3187-4851-bcd8-6c022380d2a5",
   "metadata": {},
   "source": [
    "Explore `root` w [this](https://docs.python.org/3/library/xml.etree.elementtree.html):"
   ]
  },
  {
   "cell_type": "code",
   "execution_count": null,
   "id": "b1cbbb3e-1bcc-4360-9114-65f791b5b413",
   "metadata": {},
   "outputs": [],
   "source": [
    "root.tag, root.attrib"
   ]
  },
  {
   "cell_type": "code",
   "execution_count": null,
   "id": "43cb98e1-b146-4bdf-89b3-d23089434570",
   "metadata": {},
   "outputs": [],
   "source": [
    "for child in root:\n",
    "    print(child.tag, child.attrib)"
   ]
  },
  {
   "cell_type": "markdown",
   "id": "83de1f4d-e142-4b48-ba64-b7d623015754",
   "metadata": {},
   "source": [
    "indeed, the above is the content of the file."
   ]
  },
  {
   "cell_type": "code",
   "execution_count": null,
   "id": "4c17d724-3916-4c62-9ea0-868d891f396d",
   "metadata": {},
   "outputs": [],
   "source": [
    "# todo: cont exploration"
   ]
  },
  {
   "cell_type": "markdown",
   "id": "7ef3f07e-dc5e-423b-a415-174696d5d5ca",
   "metadata": {},
   "source": [
    "## experiment w/ loading both stroke and corresponding text"
   ]
  },
  {
   "cell_type": "code",
   "execution_count": null,
   "id": "b089ed32-f24b-4f89-94af-5f7cbe5c56ec",
   "metadata": {},
   "outputs": [],
   "source": [
    "traceView = root[-1]  # to access `traceView`\n",
    "traceView"
   ]
  },
  {
   "cell_type": "code",
   "execution_count": null,
   "id": "03fd3ed6-695b-4b4f-b70a-d9ba1d6fd4e1",
   "metadata": {},
   "outputs": [],
   "source": [
    "traceView"
   ]
  },
  {
   "cell_type": "markdown",
   "id": "a8b3635f-269d-4dd8-981a-36b7553e5576",
   "metadata": {},
   "source": [
    "`textblock` and `marking` seems interesting!"
   ]
  },
  {
   "cell_type": "code",
   "execution_count": null,
   "id": "5642f657-f317-448c-9339-486cab2c6063",
   "metadata": {},
   "outputs": [],
   "source": [
    "marking = traceView[-1]\n",
    "marking"
   ]
  },
  {
   "cell_type": "code",
   "execution_count": null,
   "id": "8a4e5d6b-b278-48eb-b4dc-54f22c38fb8a",
   "metadata": {},
   "outputs": [],
   "source": [
    "marking[0].text"
   ]
  },
  {
   "cell_type": "code",
   "execution_count": null,
   "id": "45f82ba1-5328-4227-b366-12a781fbd27f",
   "metadata": {},
   "outputs": [],
   "source": [
    "marking[2][0].text, marking[2][1].text"
   ]
  },
  {
   "cell_type": "code",
   "execution_count": null,
   "id": "5bb7f46c-d682-4bc2-9486-fa7b6038f32c",
   "metadata": {},
   "outputs": [],
   "source": [
    "tmp = marking[2][2]"
   ]
  },
  {
   "cell_type": "code",
   "execution_count": null,
   "id": "6ba6226b-44bb-4932-82da-92773c4faeb6",
   "metadata": {},
   "outputs": [],
   "source": [
    "ids_to_use = []\n",
    "\n",
    "for x in tmp:\n",
    "    if x.tag == \"traceView\":\n",
    "        ids_to_use.append(x.attrib[\"traceDataRef\"])"
   ]
  },
  {
   "cell_type": "code",
   "execution_count": null,
   "id": "0184aded-1d9f-4bbd-b48b-11735d2b60a2",
   "metadata": {},
   "outputs": [],
   "source": [
    "ids_to_use"
   ]
  },
  {
   "cell_type": "code",
   "execution_count": null,
   "id": "52358cf2-585d-4130-b90b-f5e0ab5d8015",
   "metadata": {},
   "outputs": [],
   "source": [
    "traces_to_use = []\n",
    "\n",
    "for x in root.findall(\"trace\"):\n",
    "    id_to_check = x.attrib[\"{http://www.w3.org/XML/1998/namespace}id\"]\n",
    "    for y in ids_to_use:\n",
    "        if y[1:] == id_to_check:\n",
    "            traces_to_use.append([id_to_check, x.text])\n",
    "\n",
    "traces_to_use.sort(key=lambda x: x[0])"
   ]
  },
  {
   "cell_type": "markdown",
   "id": "997d1c64-a7e1-474e-9bd1-6567b3da317b",
   "metadata": {},
   "source": [
    "get dfs of traces:"
   ]
  },
  {
   "cell_type": "code",
   "execution_count": null,
   "id": "0f35219c-1cb2-4c5f-98e6-2eecb51b16d2",
   "metadata": {},
   "outputs": [],
   "source": [
    "dfs = []\n",
    "\n",
    "for name, trace in traces_to_use:\n",
    "    print(name)\n",
    "    trace = [\n",
    "        [float(yy) for yy in xx.replace(\"-\", \" -\").split()]\n",
    "        for xx in trace.split(\",\")\n",
    "        if xx[0] not in [\"'\", '\"']\n",
    "    ]\n",
    "    df = pd.DataFrame(data=trace, columns=[\"x\", \"y\", \"t\", \"f\"])\n",
    "\n",
    "    dfs.append(df)"
   ]
  },
  {
   "cell_type": "code",
   "execution_count": null,
   "id": "c4aa0a02-3089-4cdc-9a9f-db749e515573",
   "metadata": {},
   "outputs": [],
   "source": [
    "plt.figure()\n",
    "for df in dfs:\n",
    "    plt.scatter(df.cumsum()[\"x\"], df.cumsum()[\"y\"])\n",
    "plt.show()"
   ]
  },
  {
   "cell_type": "markdown",
   "id": "d304a1f8-dbee-4d25-b264-ecb9b74d2838",
   "metadata": {},
   "source": [
    "ok, apparently i have no idea what I am plotting :-D"
   ]
  },
  {
   "cell_type": "markdown",
   "id": "143fbc12-f553-4bba-b61c-269000872a3e",
   "metadata": {},
   "source": [
    "next steps:\n",
    "- read spec of IAM On Do to learn what is stored.\n",
    "- Read [this spec](https://www.w3.org/TR/InkML/#trace) to understand the above cryptic string and then plot it to see if it suits my needs of segmented word data."
   ]
  }
 ],
 "metadata": {
  "kernelspec": {
   "display_name": "Python 3 (ipykernel)",
   "language": "python",
   "name": "python3"
  },
  "language_info": {
   "codemirror_mode": {
    "name": "ipython",
    "version": 3
   },
   "file_extension": ".py",
   "mimetype": "text/x-python",
   "name": "python",
   "nbconvert_exporter": "python",
   "pygments_lexer": "ipython3",
   "version": "3.10.11"
  }
 },
 "nbformat": 4,
 "nbformat_minor": 5
}
